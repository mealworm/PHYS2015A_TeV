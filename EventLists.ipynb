{
 "cells": [
  {
   "cell_type": "markdown",
   "metadata": {},
   "source": [
    "# PHYS 3009: TeV Gamma-Ray Data Analysis with GammaPy\n",
    "\n",
    "This jupyter notebook presents a quick analysis of H.E.S.S. observations of the Crab Nebula. The data set is part of the first public test data release. You can find more information here: https://www.mpi-hd.mpg.de/hfm/HESS/pages/dl3-dr1/\n",
    "\n",
    "The analysis is performed using gammapy, a community-developed, open-source Python package for gamma-ray astronomy (https://docs.gammapy.org/). More information on the individual data analysis steps can be found in the gammapy tutorials: https://docs.gammapy.org/1.1/tutorials/index.html"
   ]
  },
  {
   "cell_type": "markdown",
   "metadata": {},
   "source": [
    "# 1. First Look at the Data"
   ]
  },
  {
   "cell_type": "markdown",
   "metadata": {},
   "source": [
    "## Data download\n",
    "The following lines check the setup and download the data."
   ]
  },
  {
   "cell_type": "markdown",
   "metadata": {},
   "source": [
    "### import\n",
    "The next cell executes the imports necessary for this project."
   ]
  },
  {
   "cell_type": "code",
   "execution_count": 1,
   "metadata": {},
   "outputs": [],
   "source": [
    "from gammapy.utils.check import check_tutorials_setup"
   ]
  },
  {
   "cell_type": "code",
   "execution_count": 2,
   "metadata": {},
   "outputs": [],
   "source": [
    "from gammapy.data import DataStore"
   ]
  },
  {
   "cell_type": "code",
   "execution_count": 3,
   "metadata": {},
   "outputs": [],
   "source": [
    "# end import"
   ]
  },
  {
   "cell_type": "code",
   "execution_count": 4,
   "metadata": {},
   "outputs": [
    {
     "name": "stderr",
     "output_type": "stream",
     "text": [
      "201MB [00:19, 10.6MB/s]                                                         \n"
     ]
    },
    {
     "name": "stdout",
     "output_type": "stream",
     "text": [
      "\n",
      "*** You might want to declare GAMMAPY_DATA env variable\n",
      "export GAMMAPY_DATA=gammapy-data/1.1\n",
      "\n",
      "\n",
      "System:\n",
      "\n",
      "\tpython_executable      : /home/komin/anaconda3/envs/gammapy-1.1/bin/python \n",
      "\tpython_version         : 3.9.16     \n",
      "\tmachine                : x86_64     \n",
      "\tsystem                 : Linux      \n",
      "\n",
      "\n",
      "Gammapy package:\n",
      "\n",
      "\tversion                : 1.1        \n",
      "\tpath                   : /home/komin/anaconda3/envs/gammapy-1.1/lib/python3.9/site-packages/gammapy \n",
      "\n",
      "\n",
      "Other packages:\n",
      "\n",
      "\tnumpy                  : 1.24.3     \n",
      "\tscipy                  : 1.10.1     \n",
      "\tastropy                : 5.3        \n",
      "\tregions                : 0.7        \n",
      "\tclick                  : 8.1.3      \n",
      "\tyaml                   : 6.0        \n",
      "\tIPython                : 8.7.0      \n",
      "\tjupyterlab             : 3.5.3      \n",
      "\tmatplotlib             : 3.7.1      \n",
      "\tpandas                 : 1.5.2      \n",
      "\thealpy                 : 1.16.2     \n",
      "\timinuit                : 2.21.3     \n",
      "\tsherpa                 : 4.15.1     \n",
      "\tnaima                  : 0.10.0     \n",
      "\temcee                  : 3.1.3      \n",
      "\tcorner                 : 2.2.1      \n",
      "\tray                    : not installed \n",
      "\n",
      "\n",
      "Gammapy environment variables:\n",
      "\n",
      "\tGAMMAPY_DATA           : ./gammapy-data \n",
      "\n"
     ]
    }
   ],
   "source": [
    "check_tutorials_setup()"
   ]
  },
  {
   "cell_type": "code",
   "execution_count": 5,
   "metadata": {},
   "outputs": [],
   "source": [
    "data_store = DataStore.from_dir(\"$GAMMAPY_DATA/1.1/hess-dl3-dr1\")"
   ]
  },
  {
   "cell_type": "code",
   "execution_count": 6,
   "metadata": {},
   "outputs": [
    {
     "name": "stdout",
     "output_type": "stream",
     "text": [
      "Data store:\n",
      "HDU index table:\n",
      "BASE_DIR: gammapy-data/1.1/hess-dl3-dr1\n",
      "Rows: 630\n",
      "OBS_ID: 20136 -- 47829\n",
      "HDU_TYPE: ['aeff', 'bkg', 'edisp', 'events', 'gti', 'psf']\n",
      "HDU_CLASS: ['aeff_2d', 'bkg_3d', 'edisp_2d', 'events', 'gti', 'psf_table']\n",
      "\n",
      "\n",
      "Observation table:\n",
      "Observatory name: 'N/A'\n",
      "Number of observations: 105\n",
      "\n"
     ]
    }
   ],
   "source": [
    "data_store.info()"
   ]
  },
  {
   "cell_type": "markdown",
   "metadata": {},
   "source": [
    "Expected output:\n",
    "\n",
    "```\n",
    "Data store:\n",
    "HDU index table:\n",
    "BASE_DIR: gammapy-data/1.1/hess-dl3-dr1\n",
    "Rows: 630\n",
    "OBS_ID: 20136 -- 47829\n",
    "HDU_TYPE: ['aeff', 'bkg', 'edisp', 'events', 'gti', 'psf']\n",
    "HDU_CLASS: ['aeff_2d', 'bkg_3d', 'edisp_2d', 'events', 'gti', 'psf_table']\n",
    "\n",
    "\n",
    "Observation table:\n",
    "Observatory name: 'N/A'\n",
    "Number of observations: 105\n",
    "```"
   ]
  },
  {
   "cell_type": "markdown",
   "metadata": {},
   "source": [
    "## Run Selection"
   ]
  },
  {
   "cell_type": "markdown",
   "metadata": {},
   "source": [
    "### imports"
   ]
  },
  {
   "cell_type": "code",
   "execution_count": 7,
   "metadata": {},
   "outputs": [],
   "source": [
    "import astropy.units as u\n",
    "from astropy.coordinates import SkyCoord, Angle"
   ]
  },
  {
   "cell_type": "code",
   "execution_count": 8,
   "metadata": {},
   "outputs": [],
   "source": [
    "# end imports"
   ]
  },
  {
   "cell_type": "markdown",
   "metadata": {},
   "source": [
    "We set the source position. frame='icrs' indicates that we are using coordinates in right ascension and declination."
   ]
  },
  {
   "cell_type": "code",
   "execution_count": 9,
   "metadata": {},
   "outputs": [],
   "source": [
    "source_pos = SkyCoord(83.633*u.deg, 22.014*u.deg, frame='icrs')"
   ]
  },
  {
   "cell_type": "code",
   "execution_count": 10,
   "metadata": {},
   "outputs": [],
   "source": [
    "selectradius = 2.5*u.deg"
   ]
  },
  {
   "cell_type": "code",
   "execution_count": 11,
   "metadata": {},
   "outputs": [],
   "source": [
    "conesearch = data_store.obs_table.select_sky_circle(source_pos, selectradius)"
   ]
  },
  {
   "cell_type": "code",
   "execution_count": 12,
   "metadata": {},
   "outputs": [
    {
     "data": {
      "text/html": [
       "<div><i>ObservationTable length=4</i>\n",
       "<table id=\"table139949986968144\" class=\"table-striped table-bordered table-condensed\">\n",
       "<thead><tr><th>OBS_ID</th><th>RA_PNT</th><th>DEC_PNT</th><th>GLON_PNT</th><th>GLAT_PNT</th><th>ZEN_PNT</th><th>ALT_PNT</th><th>AZ_PNT</th><th>OBJECT</th><th>RA_OBJ</th><th>DEC_OBJ</th><th>OFFSET_OBJ</th><th>ONTIME</th><th>LIVETIME</th><th>DEADC</th><th>TSTART</th><th>TSTOP</th><th>DATE-OBS</th><th>TIME-OBS</th><th>DATE-END</th><th>TIME-END</th><th>N_TELS</th><th>TELLIST</th><th>QUALITY</th><th>MUONEFF</th><th>EVENT_COUNT</th><th>TARGET_NAME</th><th>TARGET_TAG</th><th>TARGET_OFFSET</th><th>SAFE_ENERGY_LO</th><th>SAFE_ENERGY_HI</th></tr></thead>\n",
       "<thead><tr><th></th><th>deg</th><th>deg</th><th>deg</th><th>deg</th><th>deg</th><th>deg</th><th>deg</th><th></th><th>deg</th><th>deg</th><th>deg</th><th>s</th><th>s</th><th></th><th>s</th><th>s</th><th></th><th></th><th></th><th></th><th></th><th></th><th></th><th></th><th></th><th></th><th></th><th>deg</th><th>TeV</th><th>TeV</th></tr></thead>\n",
       "<thead><tr><th>int64</th><th>float32</th><th>float32</th><th>float32</th><th>float32</th><th>float32</th><th>float32</th><th>float32</th><th>bytes18</th><th>float32</th><th>float32</th><th>float32</th><th>float32</th><th>float32</th><th>float32</th><th>float64</th><th>float64</th><th>bytes10</th><th>bytes12</th><th>bytes10</th><th>bytes12</th><th>int64</th><th>bytes7</th><th>int64</th><th>float32</th><th>int64</th><th>bytes21</th><th>bytes14</th><th>float32</th><th>float32</th><th>float32</th></tr></thead>\n",
       "<tr><td>23523</td><td>83.63333</td><td>21.514444</td><td>184.9823</td><td>-6.0516925</td><td>48.61021</td><td>41.38979</td><td>22.481705</td><td>Crab Nebula</td><td>83.63333</td><td>22.014444</td><td>0.5</td><td>1687.0</td><td>1581.7368</td><td>0.9376033</td><td>123890826.0</td><td>123892513.0</td><td>2004-12-04</td><td>22:08:10.184</td><td>2004-12-04</td><td>22:36:17.184</td><td>4</td><td>1,2,3,4</td><td>0</td><td>0.9070748</td><td>7613</td><td>Crab</td><td>crab</td><td>0.500049</td><td>0.8709636</td><td>100.0</td></tr>\n",
       "<tr><td>23526</td><td>83.63333</td><td>22.514444</td><td>184.13332</td><td>-5.5163794</td><td>45.77929</td><td>44.22071</td><td>8.542603</td><td>Crab Nebula</td><td>83.63333</td><td>22.014444</td><td>0.5</td><td>1683.0</td><td>1572.6868</td><td>0.9344544</td><td>123893580.0</td><td>123895263.0</td><td>2004-12-04</td><td>22:54:04.184</td><td>2004-12-04</td><td>23:22:07.184</td><td>4</td><td>1,2,3,4</td><td>0</td><td>0.9142412</td><td>7581</td><td>Crab</td><td>crab</td><td>0.49995112</td><td>0.70794576</td><td>100.0</td></tr>\n",
       "<tr><td>23559</td><td>85.253334</td><td>22.014444</td><td>185.35727</td><td>-4.510869</td><td>45.368176</td><td>44.631824</td><td>2.2535799</td><td>Crab Nebula</td><td>83.63333</td><td>22.014444</td><td>1.5018803</td><td>1686.0</td><td>1578.1235</td><td>0.9360163</td><td>124067051.0</td><td>124068737.0</td><td>2004-12-06</td><td>23:05:15.184</td><td>2004-12-06</td><td>23:33:21.184</td><td>4</td><td>1,2,3,4</td><td>0</td><td>0.91964024</td><td>7601</td><td>Crab</td><td>crab</td><td>1.5021166</td><td>0.66069347</td><td>100.0</td></tr>\n",
       "<tr><td>23592</td><td>82.013336</td><td>22.014444</td><td>183.7408</td><td>-7.047852</td><td>48.389248</td><td>41.610752</td><td>21.7556</td><td>Crab Nebula</td><td>83.63333</td><td>22.014444</td><td>1.5018733</td><td>1686.0</td><td>1581.2646</td><td>0.9378794</td><td>124235636.0</td><td>124237322.0</td><td>2004-12-08</td><td>21:55:00.184</td><td>2004-12-08</td><td>22:23:06.184</td><td>4</td><td>1,2,3,4</td><td>0</td><td>0.9120389</td><td>7334</td><td>Crab</td><td>crab</td><td>1.5016365</td><td>0.8709636</td><td>100.0</td></tr>\n",
       "</table></div>"
      ],
      "text/plain": [
       "<ObservationTable length=4>\n",
       "OBS_ID   RA_PNT   DEC_PNT  ... TARGET_OFFSET SAFE_ENERGY_LO SAFE_ENERGY_HI\n",
       "          deg       deg    ...      deg           TeV            TeV      \n",
       "int64   float32   float32  ...    float32       float32        float32    \n",
       "------ --------- --------- ... ------------- -------------- --------------\n",
       " 23523  83.63333 21.514444 ...      0.500049      0.8709636          100.0\n",
       " 23526  83.63333 22.514444 ...    0.49995112     0.70794576          100.0\n",
       " 23559 85.253334 22.014444 ...     1.5021166     0.66069347          100.0\n",
       " 23592 82.013336 22.014444 ...     1.5016365      0.8709636          100.0"
      ]
     },
     "execution_count": 12,
     "metadata": {},
     "output_type": "execute_result"
    }
   ],
   "source": [
    "conesearch"
   ]
  },
  {
   "cell_type": "code",
   "execution_count": 13,
   "metadata": {},
   "outputs": [],
   "source": [
    "runlist = conesearch['OBS_ID'].value"
   ]
  },
  {
   "cell_type": "code",
   "execution_count": 14,
   "metadata": {},
   "outputs": [
    {
     "name": "stdout",
     "output_type": "stream",
     "text": [
      "[23523 23526 23559 23592]\n"
     ]
    }
   ],
   "source": [
    "print(runlist)"
   ]
  },
  {
   "cell_type": "code",
   "execution_count": 15,
   "metadata": {},
   "outputs": [
    {
     "data": {
      "text/plain": [
       "4"
      ]
     },
     "execution_count": 15,
     "metadata": {},
     "output_type": "execute_result"
    }
   ],
   "source": [
    "len(runlist)"
   ]
  },
  {
   "cell_type": "code",
   "execution_count": 16,
   "metadata": {},
   "outputs": [],
   "source": [
    "observations = data_store.get_observations(runlist)"
   ]
  },
  {
   "cell_type": "markdown",
   "metadata": {},
   "source": [
    "We create a dictionary where we will store final results which we produce along the way."
   ]
  },
  {
   "cell_type": "code",
   "execution_count": 17,
   "metadata": {},
   "outputs": [],
   "source": [
    "final_results = {}"
   ]
  },
  {
   "cell_type": "markdown",
   "metadata": {},
   "source": [
    "Let's add some information to our results:"
   ]
  },
  {
   "cell_type": "code",
   "execution_count": 18,
   "metadata": {},
   "outputs": [],
   "source": [
    "final_results['run list'] = runlist"
   ]
  },
  {
   "cell_type": "markdown",
   "metadata": {},
   "source": [
    "## Event List\n",
    "\n",
    "Let's have a look at the event list of one single run. We will use run number 23523."
   ]
  },
  {
   "cell_type": "code",
   "execution_count": 19,
   "metadata": {},
   "outputs": [],
   "source": [
    "runno = '23523'"
   ]
  },
  {
   "cell_type": "markdown",
   "metadata": {},
   "source": [
    "### imports"
   ]
  },
  {
   "cell_type": "code",
   "execution_count": 20,
   "metadata": {},
   "outputs": [],
   "source": [
    "from gammapy.data import EventList\n",
    "\n",
    "import matplotlib.pyplot as plt"
   ]
  },
  {
   "cell_type": "code",
   "execution_count": 21,
   "metadata": {},
   "outputs": [],
   "source": [
    "# end imports"
   ]
  },
  {
   "cell_type": "code",
   "execution_count": 22,
   "metadata": {},
   "outputs": [],
   "source": [
    "events = observations[runno].events"
   ]
  },
  {
   "cell_type": "code",
   "execution_count": 23,
   "metadata": {},
   "outputs": [
    {
     "name": "stdout",
     "output_type": "stream",
     "text": [
      "EventList\n",
      "---------\n",
      "\n",
      "  Instrument       : H.E.S.S. Phase I\n",
      "  Telescope        : HESS\n",
      "  Obs. ID          : 23523\n",
      "\n",
      "  Number of events : 7613\n",
      "  Event rate       : 4.513 1 / s\n",
      "\n",
      "  Time start       : 53343.92234009259\n",
      "  Time stop        : 53343.94186555556\n",
      "\n",
      "  Min. energy      : 2.44e-01 TeV\n",
      "  Max. energy      : 1.01e+02 TeV\n",
      "  Median energy    : 9.53e-01 TeV\n",
      "\n",
      "  Max. offset      : 58.0 deg\n",
      "\n"
     ]
    }
   ],
   "source": [
    "print(events)"
   ]
  },
  {
   "cell_type": "code",
   "execution_count": 24,
   "metadata": {},
   "outputs": [
    {
     "data": {
      "image/png": "[encoded data removed]",
      "text/plain": [
       "<Figure size 1200x800 with 5 Axes>"
      ]
     },
     "metadata": {},
     "output_type": "display_data"
    }
   ],
   "source": [
    "events.peek()"
   ]
  },
  {
   "cell_type": "code",
   "execution_count": 25,
   "metadata": {},
   "outputs": [
    {
     "data": {
      "text/html": [
       "<div><i>Table length=7613</i>\n",
       "<table id=\"table139949984136256\" class=\"table-striped table-bordered table-condensed\">\n",
       "<thead><tr><th>EVENT_ID</th><th>TIME</th><th>RA</th><th>DEC</th><th>ENERGY</th></tr></thead>\n",
       "<thead><tr><th></th><th>s</th><th>deg</th><th>deg</th><th>TeV</th></tr></thead>\n",
       "<thead><tr><th>int64</th><th>float64</th><th>float32</th><th>float32</th><th>float32</th></tr></thead>\n",
       "<tr><td>5407363825684</td><td>123890826.66805482</td><td>84.97964</td><td>23.89347</td><td>10.352011</td></tr>\n",
       "<tr><td>5407363825695</td><td>123890826.69749284</td><td>84.54751</td><td>21.004095</td><td>4.0246882</td></tr>\n",
       "<tr><td>5407363825831</td><td>123890827.23673964</td><td>85.39696</td><td>19.41868</td><td>2.2048872</td></tr>\n",
       "<tr><td>5407363825970</td><td>123890827.79615426</td><td>81.93147</td><td>20.79867</td><td>0.69548655</td></tr>\n",
       "<tr><td>5407363826067</td><td>123890828.26131463</td><td>85.98302</td><td>21.053099</td><td>0.86911184</td></tr>\n",
       "<tr><td>5407363826095</td><td>123890828.41393518</td><td>86.97305</td><td>21.837437</td><td>4.1240892</td></tr>\n",
       "<tr><td>...</td><td>...</td><td>...</td><td>...</td><td>...</td></tr>\n",
       "<tr><td>7198365188619</td><td>123892512.01627827</td><td>81.832565</td><td>20.889784</td><td>0.79988396</td></tr>\n",
       "<tr><td>7198365188742</td><td>123892512.49603844</td><td>83.06237</td><td>22.34547</td><td>0.5771867</td></tr>\n",
       "<tr><td>7198365188792</td><td>123892512.74561787</td><td>83.14342</td><td>23.21574</td><td>9.994803</td></tr>\n",
       "<tr><td>7198365188797</td><td>123892512.78117561</td><td>81.45052</td><td>22.960012</td><td>5.6078057</td></tr>\n",
       "<tr><td>7198365188816</td><td>123892512.85406923</td><td>84.41192</td><td>21.330505</td><td>0.5524084</td></tr>\n",
       "<tr><td>7198365188843</td><td>123892513.0062654</td><td>84.47432</td><td>21.634737</td><td>1.1091197</td></tr>\n",
       "</table></div>"
      ],
      "text/plain": [
       "<Table length=7613>\n",
       "   EVENT_ID          TIME            RA       DEC      ENERGY  \n",
       "                      s             deg       deg       TeV    \n",
       "    int64          float64        float32   float32   float32  \n",
       "------------- ------------------ --------- --------- ----------\n",
       "5407363825684 123890826.66805482  84.97964  23.89347  10.352011\n",
       "5407363825695 123890826.69749284  84.54751 21.004095  4.0246882\n",
       "5407363825831 123890827.23673964  85.39696  19.41868  2.2048872\n",
       "5407363825970 123890827.79615426  81.93147  20.79867 0.69548655\n",
       "5407363826067 123890828.26131463  85.98302 21.053099 0.86911184\n",
       "5407363826095 123890828.41393518  86.97305 21.837437  4.1240892\n",
       "          ...                ...       ...       ...        ...\n",
       "7198365188619 123892512.01627827 81.832565 20.889784 0.79988396\n",
       "7198365188742 123892512.49603844  83.06237  22.34547  0.5771867\n",
       "7198365188792 123892512.74561787  83.14342  23.21574   9.994803\n",
       "7198365188797 123892512.78117561  81.45052 22.960012  5.6078057\n",
       "7198365188816 123892512.85406923  84.41192 21.330505  0.5524084\n",
       "7198365188843  123892513.0062654  84.47432 21.634737  1.1091197"
      ]
     },
     "execution_count": 25,
     "metadata": {},
     "output_type": "execute_result"
    }
   ],
   "source": [
    "events.table"
   ]
  },
  {
   "cell_type": "code",
   "execution_count": 26,
   "metadata": {
    "scrolled": true
   },
   "outputs": [
    {
     "data": {
      "text/plain": [
       "(array([[0.000e+00, 1.000e+00, 0.000e+00, 0.000e+00, 0.000e+00, 0.000e+00,\n",
       "         0.000e+00, 0.000e+00, 0.000e+00, 0.000e+00],\n",
       "        [1.000e+00, 0.000e+00, 0.000e+00, 0.000e+00, 0.000e+00, 0.000e+00,\n",
       "         0.000e+00, 0.000e+00, 0.000e+00, 0.000e+00],\n",
       "        [0.000e+00, 0.000e+00, 0.000e+00, 0.000e+00, 0.000e+00, 0.000e+00,\n",
       "         0.000e+00, 0.000e+00, 0.000e+00, 0.000e+00],\n",
       "        [0.000e+00, 0.000e+00, 0.000e+00, 0.000e+00, 0.000e+00, 1.000e+00,\n",
       "         1.000e+00, 0.000e+00, 0.000e+00, 1.000e+00],\n",
       "        [0.000e+00, 0.000e+00, 0.000e+00, 0.000e+00, 0.000e+00, 0.000e+00,\n",
       "         0.000e+00, 0.000e+00, 3.000e+00, 2.000e+00],\n",
       "        [0.000e+00, 0.000e+00, 0.000e+00, 0.000e+00, 1.000e+00, 2.000e+00,\n",
       "         7.000e+00, 1.264e+03, 1.245e+03, 4.000e+00],\n",
       "        [0.000e+00, 0.000e+00, 0.000e+00, 0.000e+00, 0.000e+00, 2.000e+00,\n",
       "         1.000e+01, 2.438e+03, 2.615e+03, 7.000e+00],\n",
       "        [0.000e+00, 0.000e+00, 0.000e+00, 0.000e+00, 0.000e+00, 1.000e+00,\n",
       "         1.000e+00, 2.000e+00, 1.000e+00, 0.000e+00],\n",
       "        [0.000e+00, 0.000e+00, 0.000e+00, 0.000e+00, 0.000e+00, 0.000e+00,\n",
       "         0.000e+00, 0.000e+00, 2.000e+00, 0.000e+00],\n",
       "        [0.000e+00, 1.000e+00, 0.000e+00, 0.000e+00, 0.000e+00, 0.000e+00,\n",
       "         0.000e+00, 0.000e+00, 0.000e+00, 0.000e+00]]),\n",
       " array([ 36.36160278,  44.13443604,  51.90726929,  59.68010254,\n",
       "         67.45293579,  75.22576904,  82.99860229,  90.77143555,\n",
       "         98.5442688 , 106.31710205, 114.0899353 ]),\n",
       " array([-22.6104126 , -17.09725113, -11.58408966,  -6.07092819,\n",
       "         -0.55776672,   4.95539474,  10.46855621,  15.98171768,\n",
       "         21.49487915,  27.00804062,  32.52120209]),\n",
       " <matplotlib.collections.QuadMesh at 0x7f48a4a4e280>)"
      ]
     },
     "execution_count": 26,
     "metadata": {},
     "output_type": "execute_result"
    },
    {
     "data": {
      "image/png": "[encoded data removed]",
      "text/plain": [
       "<Figure size 640x480 with 1 Axes>"
      ]
     },
     "metadata": {},
     "output_type": "display_data"
    }
   ],
   "source": [
    "plt.hist2d(events.table['RA'], \n",
    "           events.table['DEC'], \n",
    "           #bins = [100,100]\n",
    "          )"
   ]
  },
  {
   "cell_type": "code",
   "execution_count": 27,
   "metadata": {},
   "outputs": [
    {
     "data": {
      "text/plain": [
       "(array([6.957e+03, 2.730e+02, 1.230e+02, 5.800e+01, 4.700e+01, 4.800e+01,\n",
       "        3.600e+01, 5.200e+01, 1.800e+01, 1.000e+00]),\n",
       " array([  0.24408458,  10.31748962,  20.39089394,  30.46430016,\n",
       "         40.53770447,  50.61111069,  60.68451309,  70.75791931,\n",
       "         80.83132172,  90.90473175, 100.97813416]),\n",
       " <BarContainer object of 10 artists>)"
      ]
     },
     "execution_count": 27,
     "metadata": {},
     "output_type": "execute_result"
    },
    {
     "data": {
      "image/png": "[encoded data removed]",
      "text/plain": [
       "<Figure size 640x480 with 1 Axes>"
      ]
     },
     "metadata": {},
     "output_type": "display_data"
    }
   ],
   "source": [
    "plt.hist(events.table['ENERGY'],\n",
    "         #log = True,\n",
    "         #range = [0.1,100],\n",
    "         #bins = 100,\n",
    "        )"
   ]
  },
  {
   "cell_type": "markdown",
   "metadata": {},
   "source": [
    "## Theta$^2$ Plot"
   ]
  },
  {
   "cell_type": "markdown",
   "metadata": {},
   "source": [
    "### on-source counts"
   ]
  },
  {
   "cell_type": "code",
   "execution_count": 28,
   "metadata": {},
   "outputs": [
    {
     "data": {
      "text/plain": [
       "<SkyCoord (ICRS): (ra, dec) in deg\n",
       "    [(84.97964, 23.89347 ), (84.54751, 21.004095), (85.39696, 19.41868 ),\n",
       "     ..., (81.45052, 22.960012), (84.41192, 21.330505),\n",
       "     (84.47432, 21.634737)]>"
      ]
     },
     "execution_count": 28,
     "metadata": {},
     "output_type": "execute_result"
    }
   ],
   "source": [
    "events.radec"
   ]
  },
  {
   "cell_type": "code",
   "execution_count": 29,
   "metadata": {},
   "outputs": [],
   "source": [
    "first_event = events.radec[0]"
   ]
  },
  {
   "cell_type": "code",
   "execution_count": 30,
   "metadata": {},
   "outputs": [
    {
     "data": {
      "text/plain": [
       "<SkyCoord (ICRS): (ra, dec) in deg\n",
       "    (84.97963715, 23.89347076)>"
      ]
     },
     "execution_count": 30,
     "metadata": {},
     "output_type": "execute_result"
    }
   ],
   "source": [
    "first_event"
   ]
  },
  {
   "cell_type": "code",
   "execution_count": 31,
   "metadata": {},
   "outputs": [
    {
     "data": {
      "text/latex": [
       "$2^\\circ15{}^\\prime05.8487106{}^{\\prime\\prime}$"
      ],
      "text/plain": [
       "<Angle 2.25162464 deg>"
      ]
     },
     "execution_count": 31,
     "metadata": {},
     "output_type": "execute_result"
    }
   ],
   "source": [
    "first_event.separation(source_pos)"
   ]
  },
  {
   "cell_type": "code",
   "execution_count": 32,
   "metadata": {},
   "outputs": [],
   "source": [
    "theta2 = events.radec.separation(source_pos)**2"
   ]
  },
  {
   "cell_type": "code",
   "execution_count": 33,
   "metadata": {},
   "outputs": [
    {
     "name": "stdout",
     "output_type": "stream",
     "text": [
      "[5.069807   1.7437685  9.457167   ... 4.9611506  0.99111927 0.7538241 ] deg2\n"
     ]
    }
   ],
   "source": [
    "print(theta2)"
   ]
  },
  {
   "cell_type": "code",
   "execution_count": 34,
   "metadata": {},
   "outputs": [
    {
     "data": {
      "image/png": "[encoded data removed]",
      "text/plain": [
       "<Figure size 640x480 with 1 Axes>"
      ]
     },
     "metadata": {},
     "output_type": "display_data"
    }
   ],
   "source": [
    "ret = plt.hist(theta2.value, \n",
    "               range = [0,0.1], \n",
    "               bins = 50\n",
    "              )\n",
    "\n",
    "plt.xlabel('$\\\\theta^2$ [deg$^2$]')\n",
    "\n",
    "plt.savefig('Theta2_on.svg')"
   ]
  },
  {
   "cell_type": "code",
   "execution_count": 35,
   "metadata": {},
   "outputs": [
    {
     "data": {
      "text/plain": [
       "(array([49., 44., 35., 30., 15., 14., 15., 11., 10., 16., 14.,  7.,  9.,\n",
       "        11.,  6.,  7.,  6.,  5.,  6.,  3.,  4.,  4.,  3.,  5.,  1.,  2.,\n",
       "         4.,  7.,  6.,  1.,  5.,  8.,  2.,  2.,  3.,  3.,  7.,  5.,  9.,\n",
       "         3.,  5.,  6.,  8.,  2.,  6.,  4.,  1.,  3.,  4.,  2.]),\n",
       " array([0.   , 0.002, 0.004, 0.006, 0.008, 0.01 , 0.012, 0.014, 0.016,\n",
       "        0.018, 0.02 , 0.022, 0.024, 0.026, 0.028, 0.03 , 0.032, 0.034,\n",
       "        0.036, 0.038, 0.04 , 0.042, 0.044, 0.046, 0.048, 0.05 , 0.052,\n",
       "        0.054, 0.056, 0.058, 0.06 , 0.062, 0.064, 0.066, 0.068, 0.07 ,\n",
       "        0.072, 0.074, 0.076, 0.078, 0.08 , 0.082, 0.084, 0.086, 0.088,\n",
       "        0.09 , 0.092, 0.094, 0.096, 0.098, 0.1  ]),\n",
       " <BarContainer object of 50 artists>)"
      ]
     },
     "execution_count": 35,
     "metadata": {},
     "output_type": "execute_result"
    }
   ],
   "source": [
    "ret"
   ]
  },
  {
   "cell_type": "code",
   "execution_count": 36,
   "metadata": {},
   "outputs": [],
   "source": [
    "n = ret[0]\n",
    "x = ret[1]"
   ]
  },
  {
   "cell_type": "code",
   "execution_count": 37,
   "metadata": {},
   "outputs": [
    {
     "name": "stdout",
     "output_type": "stream",
     "text": [
      "[0.    0.002 0.004 0.006 0.008 0.01  0.012 0.014 0.016 0.018 0.02  0.022\n",
      " 0.024 0.026 0.028 0.03  0.032 0.034 0.036 0.038 0.04  0.042 0.044 0.046\n",
      " 0.048 0.05  0.052 0.054 0.056 0.058 0.06  0.062 0.064 0.066 0.068 0.07\n",
      " 0.072 0.074 0.076 0.078 0.08  0.082 0.084 0.086 0.088 0.09  0.092 0.094\n",
      " 0.096 0.098 0.1  ]\n"
     ]
    }
   ],
   "source": [
    "print(x)"
   ]
  },
  {
   "cell_type": "code",
   "execution_count": 38,
   "metadata": {},
   "outputs": [
    {
     "data": {
      "text/plain": [
       "array([ True,  True,  True,  True,  True, False, False, False, False,\n",
       "       False, False, False, False, False, False, False, False, False,\n",
       "       False, False, False, False, False, False, False, False, False,\n",
       "       False, False, False, False, False, False, False, False, False,\n",
       "       False, False, False, False, False, False, False, False, False,\n",
       "       False, False, False, False, False])"
      ]
     },
     "execution_count": 38,
     "metadata": {},
     "output_type": "execute_result"
    }
   ],
   "source": [
    "x[1:]<0.01"
   ]
  },
  {
   "cell_type": "code",
   "execution_count": 39,
   "metadata": {},
   "outputs": [
    {
     "data": {
      "text/plain": [
       "array([49., 44., 35., 30., 15.])"
      ]
     },
     "execution_count": 39,
     "metadata": {},
     "output_type": "execute_result"
    }
   ],
   "source": [
    "n[ x[1:]<0.01 ]"
   ]
  },
  {
   "cell_type": "code",
   "execution_count": 40,
   "metadata": {},
   "outputs": [],
   "source": [
    "oncounts = n[x[1:]<0.01].sum()"
   ]
  },
  {
   "cell_type": "code",
   "execution_count": 41,
   "metadata": {},
   "outputs": [
    {
     "data": {
      "text/plain": [
       "173.0"
      ]
     },
     "execution_count": 41,
     "metadata": {},
     "output_type": "execute_result"
    }
   ],
   "source": [
    "oncounts"
   ]
  },
  {
   "cell_type": "code",
   "execution_count": 42,
   "metadata": {},
   "outputs": [],
   "source": [
    "final_results['on counts'] = oncounts"
   ]
  },
  {
   "cell_type": "markdown",
   "metadata": {},
   "source": [
    "### off-source counts"
   ]
  },
  {
   "cell_type": "code",
   "execution_count": 43,
   "metadata": {},
   "outputs": [],
   "source": [
    "obs = observations[runno]"
   ]
  },
  {
   "cell_type": "code",
   "execution_count": 44,
   "metadata": {},
   "outputs": [
    {
     "name": "stdout",
     "output_type": "stream",
     "text": [
      "Observation\n",
      "\n",
      "\tobs id            : 23523 \n",
      " \ttstart            : 53343.92\n",
      "\ttstop             : 53343.94\n",
      "\tduration          : 1687.00 s\n",
      "\tpointing (icrs)   : 83.6 deg, 21.5 deg\n",
      "\n",
      "\tdeadtime fraction : 6.2%\n",
      "\n"
     ]
    }
   ],
   "source": [
    "print(obs)"
   ]
  },
  {
   "cell_type": "code",
   "execution_count": 45,
   "metadata": {},
   "outputs": [
    {
     "name": "stderr",
     "output_type": "stream",
     "text": [
      "/tmp/ipykernel_40157/2338083612.py:1: GammapyDeprecationWarning: Use observation.get_pointing_icrs(time) instead\n",
      "  obs.pointing_radec\n",
      "/home/komin/anaconda3/envs/gammapy-1.1/lib/python3.9/site-packages/astropy/utils/decorators.py:837: GammapyDeprecationWarning: The radec function is deprecated and may be removed in a future version.\n",
      "  val = self.fget(obj)\n"
     ]
    },
    {
     "data": {
      "text/plain": [
       "<SkyCoord (ICRS): (ra, dec) in deg\n",
       "    (83.63333333, 21.51444444)>"
      ]
     },
     "execution_count": 45,
     "metadata": {},
     "output_type": "execute_result"
    }
   ],
   "source": [
    "obs.pointing_radec"
   ]
  },
  {
   "cell_type": "code",
   "execution_count": 46,
   "metadata": {},
   "outputs": [
    {
     "name": "stdout",
     "output_type": "stream",
     "text": [
      "0d29m58.40034531s\n"
     ]
    },
    {
     "name": "stderr",
     "output_type": "stream",
     "text": [
      "/tmp/ipykernel_40157/3238534179.py:1: GammapyDeprecationWarning: Use observation.get_pointing_icrs(time) instead\n",
      "  separation = obs.pointing_radec.separation(source_pos)\n"
     ]
    }
   ],
   "source": [
    "separation = obs.pointing_radec.separation(source_pos)\n",
    "print (separation)"
   ]
  },
  {
   "cell_type": "code",
   "execution_count": 47,
   "metadata": {},
   "outputs": [
    {
     "name": "stdout",
     "output_type": "stream",
     "text": [
      "359d57m52.40063811s\n"
     ]
    },
    {
     "name": "stderr",
     "output_type": "stream",
     "text": [
      "/tmp/ipykernel_40157/883252326.py:1: GammapyDeprecationWarning: Use observation.get_pointing_icrs(time) instead\n",
      "  position_angle = obs.pointing_radec.position_angle(source_pos)\n"
     ]
    }
   ],
   "source": [
    "position_angle = obs.pointing_radec.position_angle(source_pos)\n",
    "print (position_angle.to(u.deg))"
   ]
  },
  {
   "cell_type": "code",
   "execution_count": 48,
   "metadata": {},
   "outputs": [
    {
     "name": "stderr",
     "output_type": "stream",
     "text": [
      "/tmp/ipykernel_40157/3775772750.py:1: GammapyDeprecationWarning: Use observation.get_pointing_icrs(time) instead\n",
      "  offpos = obs.pointing_radec.directional_offset_by( position_angle+180*u.deg, separation)\n"
     ]
    }
   ],
   "source": [
    "offpos = obs.pointing_radec.directional_offset_by( position_angle+180*u.deg, separation)"
   ]
  },
  {
   "cell_type": "code",
   "execution_count": 49,
   "metadata": {},
   "outputs": [
    {
     "data": {
      "text/plain": [
       "<SkyCoord (ICRS): (ra, dec) in deg\n",
       "    (83.63366438, 21.01488889)>"
      ]
     },
     "execution_count": 49,
     "metadata": {},
     "output_type": "execute_result"
    }
   ],
   "source": [
    "offpos"
   ]
  },
  {
   "cell_type": "code",
   "execution_count": 50,
   "metadata": {},
   "outputs": [],
   "source": [
    "theta2_off = events.radec.separation(offpos)**2"
   ]
  },
  {
   "cell_type": "code",
   "execution_count": 51,
   "metadata": {},
   "outputs": [
    {
     "data": {
      "image/png": "[encoded data removed]",
      "text/plain": [
       "<Figure size 640x480 with 1 Axes>"
      ]
     },
     "metadata": {},
     "output_type": "display_data"
    }
   ],
   "source": [
    "plt.hist(theta2.value, range = [0,0.1], bins = 50)\n",
    "ret_off = plt.hist(theta2_off.value, range = [0,0.1], bins = 50, alpha = 0.5)\n",
    "\n",
    "plt.xlabel('$\\\\theta^2$ [deg$^2$]')\n",
    "\n",
    "plt.savefig('Theta2_onoff.svg')"
   ]
  },
  {
   "cell_type": "code",
   "execution_count": 52,
   "metadata": {},
   "outputs": [],
   "source": [
    "n_off = ret_off[0]\n",
    "offcounts = n_off[x[1:]<0.01].sum()"
   ]
  },
  {
   "cell_type": "code",
   "execution_count": 53,
   "metadata": {},
   "outputs": [
    {
     "name": "stdout",
     "output_type": "stream",
     "text": [
      "173.0 8.0\n"
     ]
    }
   ],
   "source": [
    "print(oncounts,offcounts)"
   ]
  },
  {
   "cell_type": "code",
   "execution_count": 54,
   "metadata": {},
   "outputs": [],
   "source": [
    "final_results['off counts'] = offcounts"
   ]
  },
  {
   "cell_type": "markdown",
   "metadata": {},
   "source": [
    "### excess"
   ]
  },
  {
   "cell_type": "code",
   "execution_count": 55,
   "metadata": {},
   "outputs": [],
   "source": [
    "excess = oncounts - offcounts"
   ]
  },
  {
   "cell_type": "code",
   "execution_count": 56,
   "metadata": {},
   "outputs": [
    {
     "data": {
      "text/plain": [
       "165.0"
      ]
     },
     "execution_count": 56,
     "metadata": {},
     "output_type": "execute_result"
    }
   ],
   "source": [
    "excess"
   ]
  },
  {
   "cell_type": "code",
   "execution_count": 57,
   "metadata": {},
   "outputs": [],
   "source": [
    "final_results['excess'] = excess"
   ]
  },
  {
   "cell_type": "markdown",
   "metadata": {},
   "source": [
    "### background check\n",
    "\n",
    "Let's check that there is no excess at larger $\\theta^2$ values, where we do not expect any emission."
   ]
  },
  {
   "cell_type": "code",
   "execution_count": 58,
   "metadata": {},
   "outputs": [
    {
     "data": {
      "text/plain": [
       "array([False, False, False, False, False, False, False, False, False,\n",
       "       False, False, False, False, False, False, False, False, False,\n",
       "       False, False, False, False, False, False,  True,  True,  True,\n",
       "        True,  True,  True,  True,  True,  True,  True,  True,  True,\n",
       "        True,  True,  True,  True,  True,  True,  True,  True,  True,\n",
       "        True,  True,  True,  True,  True])"
      ]
     },
     "execution_count": 58,
     "metadata": {},
     "output_type": "execute_result"
    }
   ],
   "source": [
    "x[1:] > 0.05"
   ]
  },
  {
   "cell_type": "code",
   "execution_count": 59,
   "metadata": {},
   "outputs": [],
   "source": [
    "check_on = n[x[1:]>0.05].sum()"
   ]
  },
  {
   "cell_type": "code",
   "execution_count": 60,
   "metadata": {},
   "outputs": [],
   "source": [
    "check_off = n_off[x[1:]>0.05].sum()"
   ]
  },
  {
   "cell_type": "code",
   "execution_count": 61,
   "metadata": {},
   "outputs": [
    {
     "name": "stdout",
     "output_type": "stream",
     "text": [
      "109.0 - 87.0 = 22.0\n"
     ]
    }
   ],
   "source": [
    "print('{} - {} = {}'.format(check_on, check_off, check_on - check_off))"
   ]
  },
  {
   "cell_type": "markdown",
   "metadata": {},
   "source": [
    "## Significance"
   ]
  },
  {
   "cell_type": "code",
   "execution_count": 62,
   "metadata": {},
   "outputs": [],
   "source": [
    "total = oncounts + offcounts"
   ]
  },
  {
   "cell_type": "code",
   "execution_count": 63,
   "metadata": {},
   "outputs": [
    {
     "data": {
      "text/plain": [
       "181.0"
      ]
     },
     "execution_count": 63,
     "metadata": {},
     "output_type": "execute_result"
    }
   ],
   "source": [
    "total"
   ]
  },
  {
   "cell_type": "code",
   "execution_count": 64,
   "metadata": {},
   "outputs": [],
   "source": [
    "#from math import sqrt\n",
    "\n",
    "from numpy import sqrt"
   ]
  },
  {
   "cell_type": "code",
   "execution_count": 65,
   "metadata": {},
   "outputs": [],
   "source": [
    "sigma = sqrt(total)"
   ]
  },
  {
   "cell_type": "code",
   "execution_count": 66,
   "metadata": {},
   "outputs": [
    {
     "data": {
      "text/plain": [
       "13.45362404707371"
      ]
     },
     "execution_count": 66,
     "metadata": {},
     "output_type": "execute_result"
    }
   ],
   "source": [
    "sigma"
   ]
  },
  {
   "cell_type": "code",
   "execution_count": 67,
   "metadata": {},
   "outputs": [],
   "source": [
    "significance_1 = excess/sigma"
   ]
  },
  {
   "cell_type": "code",
   "execution_count": 68,
   "metadata": {},
   "outputs": [
    {
     "data": {
      "text/plain": [
       "12.264353413078245"
      ]
     },
     "execution_count": 68,
     "metadata": {},
     "output_type": "execute_result"
    }
   ],
   "source": [
    "significance_1"
   ]
  },
  {
   "cell_type": "code",
   "execution_count": 69,
   "metadata": {},
   "outputs": [],
   "source": [
    "from gammapy.stats import WStatCountsStatistic"
   ]
  },
  {
   "cell_type": "code",
   "execution_count": 70,
   "metadata": {},
   "outputs": [
    {
     "name": "stdout",
     "output_type": "stream",
     "text": [
      "excess: 165.0 \n",
      "significance: 13.615186756250544\n"
     ]
    }
   ],
   "source": [
    "stat = WStatCountsStatistic(n_on=oncounts, n_off=offcounts, alpha=1.)\n",
    "\n",
    "print('excess: {} \\nsignificance: {}'.format(stat.n_sig,stat.sqrt_ts))"
   ]
  },
  {
   "cell_type": "markdown",
   "metadata": {},
   "source": [
    "Let's check the background:"
   ]
  },
  {
   "cell_type": "code",
   "execution_count": 71,
   "metadata": {},
   "outputs": [
    {
     "name": "stdout",
     "output_type": "stream",
     "text": [
      "excess: 22.0 \n",
      "significance: 1.5730859267652315\n"
     ]
    }
   ],
   "source": [
    "stat_check = WStatCountsStatistic(n_on=check_on, n_off=check_off, alpha=1.)\n",
    "\n",
    "print('excess: {} \\nsignificance: {}'.format(stat_check.n_sig,stat_check.sqrt_ts))"
   ]
  },
  {
   "cell_type": "markdown",
   "metadata": {},
   "source": [
    "## Your playground\n",
    "\n",
    "If you want to do it yourself, try the following.\n",
    "\n",
    "Make a theta^2 plot for signal and background for run no. 23523. Calculate the number of on and off events for a theta^2 cut of 0.02. Calculate the significance."
   ]
  },
  {
   "cell_type": "code",
   "execution_count": 72,
   "metadata": {},
   "outputs": [],
   "source": [
    "## your code here"
   ]
  },
  {
   "cell_type": "markdown",
   "metadata": {},
   "source": [
    "## Summary"
   ]
  },
  {
   "cell_type": "markdown",
   "metadata": {},
   "source": [
    "That's all. Let's see what we have."
   ]
  },
  {
   "cell_type": "code",
   "execution_count": 74,
   "metadata": {},
   "outputs": [
    {
     "data": {
      "text/plain": [
       "{'run list': array([23523, 23526, 23559, 23592]),\n",
       " 'on counts': 173.0,\n",
       " 'off counts': 8.0,\n",
       " 'excess': 165.0}"
      ]
     },
     "execution_count": 74,
     "metadata": {},
     "output_type": "execute_result"
    }
   ],
   "source": [
    "final_results"
   ]
  }
 ],
 "metadata": {
  "kernelspec": {
   "display_name": "Python 3 (ipykernel)",
   "language": "python",
   "name": "python3"
  },
  "language_info": {
   "codemirror_mode": {
    "name": "ipython",
    "version": 3
   },
   "file_extension": ".py",
   "mimetype": "text/x-python",
   "name": "python",
   "nbconvert_exporter": "python",
   "pygments_lexer": "ipython3",
   "version": "3.9.16"
  }
 },
 "nbformat": 4,
 "nbformat_minor": 4
}
